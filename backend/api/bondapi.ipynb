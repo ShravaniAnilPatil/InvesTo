{
 "cells": [
  {
   "cell_type": "code",
   "execution_count": 1,
   "metadata": {},
   "outputs": [
    {
     "name": "stdout",
     "output_type": "stream",
     "text": [
      "{\"result\": {\"count\": 3,\"list\": [{\"symbol\":\"QHLHA\",\"name\":\"Quayside Holdings Ltd. 6.64% Perpetual Preferred Stock\",\"country\":\"New Zealand\",\"currency\":\"NZD\",\"exchange\":\"NZX\",\"mic_code\":\"XNZE\",\"type\":\"Bond\"},{\"symbol\":\"US2Y\",\"name\":\"US Treasury Yield 2 Years\",\"country\":\"United States\",\"currency\":\"USD\",\"exchange\":\"NYSE\",\"mic_code\":\"XNYS\",\"type\":\"Bond\"},{\"symbol\":\"ZA10Y\",\"name\":\"South Africa 10 Year Government Bond\",\"country\":\"South Africa\",\"currency\":\"ZAR\",\"exchange\":\"JSE\",\"mic_code\":\"XJSE\",\"type\":\"Bond\"}]},\"status\": \"ok\"}\n"
     ]
    }
   ],
   "source": [
    "import requests\n",
    "\n",
    "STOCK_CODE = \"AAPL\"\n",
    "\n",
    "response = requests.get(f\"https://api.twelvedata.com/bonds?apikey=d1b4c902740849cebfe6d9a88b253800\")\n",
    "\n",
    "print(response.text)"
   ]
  }
 ],
 "metadata": {
  "kernelspec": {
   "display_name": "Python 3",
   "language": "python",
   "name": "python3"
  },
  "language_info": {
   "codemirror_mode": {
    "name": "ipython",
    "version": 3
   },
   "file_extension": ".py",
   "mimetype": "text/x-python",
   "name": "python",
   "nbconvert_exporter": "python",
   "pygments_lexer": "ipython3",
   "version": "3.12.6"
  }
 },
 "nbformat": 4,
 "nbformat_minor": 2
}
